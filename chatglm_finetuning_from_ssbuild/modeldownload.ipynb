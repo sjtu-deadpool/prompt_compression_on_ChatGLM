{
 "cells": [
  {
   "cell_type": "code",
   "execution_count": 10,
   "metadata": {},
   "outputs": [
    {
     "name": "stdout",
     "output_type": "stream",
     "text": [
      "Downloading chatglm-6b...\n",
      "Error downloading chatglm-6b: ChatGLMTokenizer has no attribute vocab_size\n",
      "Downloading chatglm-6b-int4...\n",
      "Error downloading chatglm-6b-int4: ChatGLMTokenizer has no attribute vocab_size\n",
      "Downloading chatglm-6b-int8...\n",
      "Error downloading chatglm-6b-int8: ChatGLMTokenizer has no attribute vocab_size\n",
      "Download process completed!\n"
     ]
    }
   ],
   "source": [
    "from transformers import AutoTokenizer, AutoModel  \n",
    "import os  \n",
    "\n",
    "# 模型名称和本地保存路径  \n",
    "models = {  \n",
    "    \"chatglm-6b\": \"./models/chatglm-6b\",  \n",
    "    \"chatglm-6b-int4\": \"./models/chatglm-6b-int4\",  \n",
    "    \"chatglm-6b-int8\": \"./models/chatglm-6b-int8\",  \n",
    "}  \n",
    "\n",
    "# 确保保存路径存在  \n",
    "os.makedirs(\"./models\", exist_ok=True)  \n",
    "\n",
    "# 遍历并下载模型  \n",
    "for model_name, save_path in models.items():  \n",
    "    try:  \n",
    "        print(f\"Downloading {model_name}...\")  \n",
    "        \n",
    "        # 先下载并保存tokenizer  \n",
    "        tokenizer = AutoTokenizer.from_pretrained(  \n",
    "            f\"THUDM/{model_name}\",  \n",
    "            trust_remote_code=True,  \n",
    "        )  \n",
    "        tokenizer.save_pretrained(save_path)  \n",
    "        \n",
    "        # 然后下载并保存模型  \n",
    "        model = AutoModel.from_pretrained(  \n",
    "            f\"THUDM/{model_name}\",  \n",
    "            trust_remote_code=True,  \n",
    "        )  \n",
    "        model.save_pretrained(save_path)  \n",
    "        \n",
    "        print(f\"{model_name} has been saved to {save_path}\\n\")  \n",
    "        \n",
    "    except Exception as e:  \n",
    "        print(f\"Error downloading {model_name}: {str(e)}\")  \n",
    "\n",
    "print(\"Download process completed!\")"
   ]
  }
 ],
 "metadata": {
  "kernelspec": {
   "display_name": "chatglm",
   "language": "python",
   "name": "python3"
  },
  "language_info": {
   "codemirror_mode": {
    "name": "ipython",
    "version": 3
   },
   "file_extension": ".py",
   "mimetype": "text/x-python",
   "name": "python",
   "nbconvert_exporter": "python",
   "pygments_lexer": "ipython3",
   "version": "3.10.14"
  }
 },
 "nbformat": 4,
 "nbformat_minor": 2
}
