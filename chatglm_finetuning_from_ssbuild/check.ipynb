{
 "cells": [
  {
   "cell_type": "code",
   "execution_count": 2,
   "metadata": {},
   "outputs": [
    {
     "name": "stdout",
     "output_type": "stream",
     "text": [
      "CUDA is available: True\n",
      "CUDA version detected by PyTorch: 11.8\n",
      "Device Name: NVIDIA GeForce RTX 4080 SUPER\n"
     ]
    }
   ],
   "source": [
    "import torch\n",
    "print(\"CUDA is available:\", torch.cuda.is_available())\n",
    "print(\"CUDA version detected by PyTorch:\", torch.version.cuda)\n",
    "print(\"Device Name:\", torch.cuda.get_device_name(torch.cuda.current_device()))\n"
   ]
  },
  {
   "cell_type": "code",
   "execution_count": 3,
   "metadata": {},
   "outputs": [
    {
     "name": "stdout",
     "output_type": "stream",
     "text": [
      "Collecting deep_training (from -r requirements.txt (line 6))\n",
      "  Cloning https://github.com/ssbuild/deep_training to c:\\users\\admin\\appdata\\local\\temp\\pip-install-qqmz5jg7\\deep-training_d60d333be17441eb9eb8427c5fd7776e\n",
      "  Resolved https://github.com/ssbuild/deep_training to commit be072be530fba7e6c98fcad8b28b765b1adbfcb6\n",
      "  Preparing metadata (setup.py): started\n",
      "  Preparing metadata (setup.py): finished with status 'done'\n",
      "Collecting cpm_kernels (from -r requirements.txt (line 1))\n",
      "  Using cached cpm_kernels-1.0.11-py3-none-any.whl.metadata (1.2 kB)\n",
      "Collecting transformers>=4.30 (from -r requirements.txt (line 2))\n",
      "  Using cached transformers-4.47.0-py3-none-any.whl.metadata (43 kB)\n",
      "Collecting deepspeed (from -r requirements.txt (line 3))\n",
      "  Using cached deepspeed-0.16.1.tar.gz (1.4 MB)\n",
      "  Preparing metadata (setup.py): started\n",
      "  Preparing metadata (setup.py): finished with status 'error'\n",
      "Note: you may need to restart the kernel to use updated packages.\n"
     ]
    },
    {
     "name": "stderr",
     "output_type": "stream",
     "text": [
      "  Running command git clone --filter=blob:none --quiet https://github.com/ssbuild/deep_training 'C:\\Users\\Admin\\AppData\\Local\\Temp\\pip-install-qqmz5jg7\\deep-training_d60d333be17441eb9eb8427c5fd7776e'\n",
      "  error: subprocess-exited-with-error\n",
      "  \n",
      "  × python setup.py egg_info did not run successfully.\n",
      "  │ exit code: 1\n",
      "  ╰─> [34 lines of output]\n",
      "      DS_BUILD_OPS=1\n",
      "      \u001b[93m [WARNING] \u001b[0m Skip pre-compile of incompatible async_io; One can disable async_io with DS_BUILD_AIO=0\n",
      "      bash: line 1: type: lscpu: not found\n",
      "      \u001b[93m [WARNING] \u001b[0m cpu_adam requires the 'lscpu' command, but it does not exist!\n",
      "      \u001b[93m [WARNING] \u001b[0m cpu_adam attempted to query 'lscpu' after failing to use py-cpuinfo to detect the CPU architecture. 'lscpu' does not appear to exist on your system, will fall back to use -march=native and non-vectorized execution.\n",
      "      bash: line 1: type: lscpu: not found\n",
      "      \u001b[93m [WARNING] \u001b[0m cpu_adam requires the 'lscpu' command, but it does not exist!\n",
      "      \u001b[93m [WARNING] \u001b[0m cpu_adam attempted to query 'lscpu' after failing to use py-cpuinfo to detect the CPU architecture. 'lscpu' does not appear to exist on your system, will fall back to use -march=native and non-vectorized execution.\n",
      "      bash: line 1: type: lscpu: not found\n",
      "      \u001b[93m [WARNING] \u001b[0m cpu_adagrad requires the 'lscpu' command, but it does not exist!\n",
      "      \u001b[93m [WARNING] \u001b[0m cpu_adagrad attempted to query 'lscpu' after failing to use py-cpuinfo to detect the CPU architecture. 'lscpu' does not appear to exist on your system, will fall back to use -march=native and non-vectorized execution.\n",
      "      bash: line 1: type: lscpu: not found\n",
      "      \u001b[93m [WARNING] \u001b[0m cpu_adagrad requires the 'lscpu' command, but it does not exist!\n",
      "      \u001b[93m [WARNING] \u001b[0m cpu_adagrad attempted to query 'lscpu' after failing to use py-cpuinfo to detect the CPU architecture. 'lscpu' does not appear to exist on your system, will fall back to use -march=native and non-vectorized execution.\n",
      "      bash: line 1: type: lscpu: not found\n",
      "      \u001b[93m [WARNING] \u001b[0m cpu_lion requires the 'lscpu' command, but it does not exist!\n",
      "      \u001b[93m [WARNING] \u001b[0m cpu_lion attempted to query 'lscpu' after failing to use py-cpuinfo to detect the CPU architecture. 'lscpu' does not appear to exist on your system, will fall back to use -march=native and non-vectorized execution.\n",
      "      bash: line 1: type: lscpu: not found\n",
      "      \u001b[93m [WARNING] \u001b[0m cpu_lion requires the 'lscpu' command, but it does not exist!\n",
      "      \u001b[93m [WARNING] \u001b[0m cpu_lion attempted to query 'lscpu' after failing to use py-cpuinfo to detect the CPU architecture. 'lscpu' does not appear to exist on your system, will fall back to use -march=native and non-vectorized execution.\n",
      "      \u001b[93m [WARNING] \u001b[0m Skip pre-compile of incompatible evoformer_attn; One can disable evoformer_attn with DS_BUILD_EVOFORMER_ATTN=0\n",
      "      \u001b[93m [WARNING] \u001b[0m Skip pre-compile of incompatible fp_quantizer; One can disable fp_quantizer with DS_BUILD_FP_QUANTIZER=0\n",
      "      \u001b[93m [WARNING] \u001b[0m Skip pre-compile of incompatible gds; One can disable gds with DS_BUILD_GDS=0\n",
      "      \u001b[93m [WARNING] \u001b[0m Filtered compute capabilities ['6.0', '6.1', '7.0']\n",
      "      Traceback (most recent call last):\n",
      "        File \"<string>\", line 2, in <module>\n",
      "        File \"<pip-setuptools-caller>\", line 34, in <module>\n",
      "        File \"C:\\Users\\Admin\\AppData\\Local\\Temp\\pip-install-qqmz5jg7\\deepspeed_56237e5b0bd94f279ce20d92ac57bb96\\setup.py\", line 200, in <module>\n",
      "          ext_modules.append(builder.builder())\n",
      "        File \"C:\\Users\\Admin\\AppData\\Local\\Temp\\pip-install-qqmz5jg7\\deepspeed_56237e5b0bd94f279ce20d92ac57bb96\\op_builder\\builder.py\", line 720, in builder\n",
      "          extra_link_args=self.strip_empty_entries(self.extra_ldflags()))\n",
      "        File \"C:\\Users\\Admin\\AppData\\Local\\Temp\\pip-install-qqmz5jg7\\deepspeed_56237e5b0bd94f279ce20d92ac57bb96\\op_builder\\inference_cutlass_builder.py\", line 74, in extra_ldflags\n",
      "          import dskernels\n",
      "      ModuleNotFoundError: No module named 'dskernels'\n",
      "      [end of output]\n",
      "  \n",
      "  note: This error originates from a subprocess, and is likely not a problem with pip.\n",
      "error: metadata-generation-failed\n",
      "\n",
      "× Encountered error while generating package metadata.\n",
      "╰─> See above for output.\n",
      "\n",
      "note: This is an issue with the package mentioned above, not pip.\n",
      "hint: See above for details.\n"
     ]
    }
   ],
   "source": [
    "%pip install -r requirements.txt\n"
   ]
  },
  {
   "cell_type": "code",
   "execution_count": 1,
   "metadata": {},
   "outputs": [
    {
     "ename": "ModuleNotFoundError",
     "evalue": "No module named 'deepspeed'",
     "output_type": "error",
     "traceback": [
      "\u001b[1;31m---------------------------------------------------------------------------\u001b[0m",
      "\u001b[1;31mModuleNotFoundError\u001b[0m                       Traceback (most recent call last)",
      "Cell \u001b[1;32mIn[1], line 1\u001b[0m\n\u001b[1;32m----> 1\u001b[0m \u001b[38;5;28;01mimport\u001b[39;00m \u001b[38;5;21;01mdeepspeed\u001b[39;00m\n\u001b[0;32m      2\u001b[0m \u001b[38;5;28mprint\u001b[39m(\u001b[38;5;124m\"\u001b[39m\u001b[38;5;124mDeepSpeed version:\u001b[39m\u001b[38;5;124m\"\u001b[39m, deepspeed\u001b[38;5;241m.\u001b[39m__version__)\n",
      "\u001b[1;31mModuleNotFoundError\u001b[0m: No module named 'deepspeed'"
     ]
    }
   ],
   "source": [
    "import deepspeed\n",
    "print(\"DeepSpeed version:\", deepspeed.__version__)\n"
   ]
  }
 ],
 "metadata": {
  "kernelspec": {
   "display_name": "chatglmCompression",
   "language": "python",
   "name": "python3"
  },
  "language_info": {
   "codemirror_mode": {
    "name": "ipython",
    "version": 3
   },
   "file_extension": ".py",
   "mimetype": "text/x-python",
   "name": "python",
   "nbconvert_exporter": "python",
   "pygments_lexer": "ipython3",
   "version": "3.10.16"
  }
 },
 "nbformat": 4,
 "nbformat_minor": 2
}
