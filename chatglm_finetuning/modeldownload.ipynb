{
 "cells": [
  {
   "cell_type": "code",
   "execution_count": null,
   "metadata": {},
   "outputs": [],
   "source": [
    "from transformers import AutoTokenizer, AutoModel  \n",
    "import os  \n",
    " \n",
    "models = {  \n",
    "    \"chatglm-6b\": \"./models/chatglm-6b\",  \n",
    "    \"chatglm-6b-int4\": \"./models/chatglm-6b-int4\",  \n",
    "    \"chatglm-6b-int8\": \"./models/chatglm-6b-int8\",  \n",
    "}  \n",
    "\n",
    "os.makedirs(\"./models\", exist_ok=True)  \n",
    "\n",
    "def download_model(model_name, save_path):  \n",
    "    print(f\"Downloading {model_name}...\")  \n",
    "    \n",
    "    try:   \n",
    "        tokenizer = AutoTokenizer.from_pretrained(  \n",
    "            f\"THUDM/{model_name}\",  \n",
    "            trust_remote_code=True,  \n",
    "            revision=\"main\"  \n",
    "        )  \n",
    "        \n",
    "        model = AutoModel.from_pretrained(  \n",
    "            f\"THUDM/{model_name}\",  \n",
    "            trust_remote_code=True,  \n",
    "            revision=\"main\"  \n",
    "        )  \n",
    "        \n",
    "        os.makedirs(save_path, exist_ok=True)  \n",
    "          \n",
    "        print(f\"Saving {model_name} to {save_path}\")  \n",
    "        tokenizer.save_pretrained(save_path)  \n",
    "        model.save_pretrained(save_path)  \n",
    "        \n",
    "        print(f\"Successfully downloaded and saved {model_name}\")  \n",
    "        \n",
    "    except Exception as e:  \n",
    "        print(f\"Error downloading {model_name}: {str(e)}\")  \n",
    "        print(\"Detailed error information:\", e.__class__.__name__)  \n",
    "\n",
    "import torch  \n",
    "print(f\"PyTorch version: {torch.__version__}\")  \n",
    "import transformers  \n",
    "print(f\"Transformers version: {transformers.__version__}\")  \n",
    "\n",
    "for model_name, save_path in models.items():  \n",
    "    download_model(model_name, save_path)  \n",
    "\n",
    "print(\"Download process completed!\")"
   ]
  },
  {
   "cell_type": "code",
   "execution_count": null,
   "metadata": {},
   "outputs": [],
   "source": [
    "import transformers  \n",
    "print(f\"Transformers version: {transformers.__version__}\")  "
   ]
  }
 ],
 "metadata": {
  "kernelspec": {
   "display_name": "chatglm",
   "language": "python",
   "name": "python3"
  },
  "language_info": {
   "codemirror_mode": {
    "name": "ipython",
    "version": 3
   },
   "file_extension": ".py",
   "mimetype": "text/x-python",
   "name": "python",
   "nbconvert_exporter": "python",
   "pygments_lexer": "ipython3",
   "version": "3.10.14"
  }
 },
 "nbformat": 4,
 "nbformat_minor": 2
}
